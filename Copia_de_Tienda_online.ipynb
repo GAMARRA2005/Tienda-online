{
  "nbformat": 4,
  "nbformat_minor": 0,
  "metadata": {
    "colab": {
      "provenance": [],
      "authorship_tag": "ABX9TyMflAr8IT7LpZLYOyTaBAP+",
      "include_colab_link": true
    },
    "kernelspec": {
      "name": "python3",
      "display_name": "Python 3"
    },
    "language_info": {
      "name": "python"
    }
  },
  "cells": [
    {
      "cell_type": "markdown",
      "metadata": {
        "id": "view-in-github",
        "colab_type": "text"
      },
      "source": [
        "<a href=\"https://colab.research.google.com/github/GAMARRA2005/Tienda-online/blob/main/Copia_de_Tienda_online.ipynb\" target=\"_parent\"><img src=\"https://colab.research.google.com/assets/colab-badge.svg\" alt=\"Open In Colab\"/></a>"
      ]
    },
    {
      "cell_type": "code",
      "execution_count": null,
      "metadata": {
        "colab": {
          "base_uri": "https://localhost:8080/"
        },
        "id": "UmTKbELhui4H",
        "outputId": "cdb556f2-9a36-48f1-928f-fa5a4ecbfffc"
      },
      "outputs": [
        {
          "output_type": "stream",
          "name": "stdout",
          "text": [
            "{'clientes': [{'direccion': 'Calle 123',\n",
            "               'email': 'juan@example.com',\n",
            "               'nombre': 'Juan Pérez'},\n",
            "              {'direccion': 'Avenida 456',\n",
            "               'email': 'maria@example.com',\n",
            "               'nombre': 'María López'}],\n",
            " 'pedidos': [{'cliente': 'juan@example.com',\n",
            "              'estado': 'Entregado',\n",
            "              'id_pedido': 101,\n",
            "              'productos': [1, 2]},\n",
            "             {'cliente': 'maria@example.com',\n",
            "              'estado': 'Pendiente',\n",
            "              'id_pedido': 102,\n",
            "              'productos': [3]}],\n",
            " 'productos': [{'id': 1, 'nombre': 'Camiseta', 'precio': 19.99, 'stock': 50},\n",
            "               {'id': 2, 'nombre': 'Zapatos', 'precio': 59.99, 'stock': 30},\n",
            "               {'id': 3, 'nombre': 'Bolso', 'precio': 25.99, 'stock': 20},\n",
            "               {'id': 4, 'nombre': 'Pantalón', 'precio': 39.99, 'stock': 75}]}\n"
          ]
        }
      ],
      "source": [
        "# Definir la estructura de la tienda online\n",
        "tienda = {\n",
        "    \"productos\": [\n",
        "        {\"id\": 1, \"nombre\": \"Camiseta\", \"precio\": 19.99, \"stock\": 50},\n",
        "        {\"id\": 2, \"nombre\": \"Zapatos\", \"precio\": 59.99, \"stock\": 30},\n",
        "        {\"id\": 3, \"nombre\": \"Bolso\", \"precio\": 25.99, \"stock\": 20}\n",
        "    ],\n",
        "    \"pedidos\": [\n",
        "        {\"id_pedido\": 101, \"cliente\": \"juan@example.com\", \"productos\": [1, 2], \"estado\": \"En proceso\"},\n",
        "        {\"id_pedido\": 102, \"cliente\": \"maria@example.com\", \"productos\": [3], \"estado\": \"Pendiente\"}\n",
        "    ],\n",
        "    \"clientes\": [\n",
        "        {\"nombre\": \"Juan Pérez\", \"email\": \"juan@example.com\", \"direccion\": \"Calle 123\"},\n",
        "        {\"nombre\": \"María López\", \"email\": \"maria@example.com\", \"direccion\": \"Avenida 456\"}\n",
        "    ]\n",
        "}\n",
        "\n",
        "# Agregar un nuevo producto\n",
        "nuevo_producto = {\"id\": 4, \"nombre\": \"Pantalón\", \"precio\": 39.99, \"stock\": 75}\n",
        "tienda[\"productos\"].append(nuevo_producto)\n",
        "\n",
        "# Cambiar el estado del pedido 101 a \"Entregado\"\n",
        "for pedido in tienda[\"pedidos\"]:\n",
        "    if pedido[\"id_pedido\"] == 101:\n",
        "        pedido[\"estado\"] = \"Entregado\"\n",
        "\n",
        "# Encontrar todos los pedidos de un cliente específico por email\n",
        "def buscar_pedidos_por_email(email):\n",
        "    return [pedido for pedido in tienda[\"pedidos\"] if pedido[\"cliente\"] == email]\n",
        "\n",
        "# Mostrar la tienda actualizada\n",
        "import pprint\n",
        "pprint.pprint(tienda)\n"
      ]
    }
  ]
}