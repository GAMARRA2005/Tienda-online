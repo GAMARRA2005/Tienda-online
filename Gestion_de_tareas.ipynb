{
  "nbformat": 4,
  "nbformat_minor": 0,
  "metadata": {
    "colab": {
      "provenance": [],
      "authorship_tag": "ABX9TyM/k3Y8ikN4QTkxPXlajOfl",
      "include_colab_link": true
    },
    "kernelspec": {
      "name": "python3",
      "display_name": "Python 3"
    },
    "language_info": {
      "name": "python"
    }
  },
  "cells": [
    {
      "cell_type": "markdown",
      "metadata": {
        "id": "view-in-github",
        "colab_type": "text"
      },
      "source": [
        "<a href=\"https://colab.research.google.com/github/GAMARRA2005/Tienda-online/blob/main/Gestion_de_tareas.ipynb\" target=\"_parent\"><img src=\"https://colab.research.google.com/assets/colab-badge.svg\" alt=\"Open In Colab\"/></a>"
      ]
    },
    {
      "cell_type": "code",
      "source": [
        "# Paso 1: Definir la clase para gestionar las tareas\n",
        "class GestorTareas:\n",
        "    def __init__(self, nombre_archivo='tareas.txt'):\n",
        "        \"\"\"Inicializa el gestor de tareas con el archivo donde se almacenarán.\"\"\"\n",
        "        self.nombre_archivo = nombre_archivo\n",
        "\n",
        "    def agregar_tarea(self, tarea):\n",
        "        \"\"\"Agrega una nueva tarea al archivo de texto.\"\"\"\n",
        "        with open(self.nombre_archivo, 'a') as archivo:\n",
        "            archivo.write(tarea + '\\n')\n",
        "        print(f\"Tarea '{tarea}' agregada con éxito.\")\n",
        "\n",
        "# Crear y escribir en el archivo\n",
        "nombre_archivo = 'tareas.txt'\n",
        "\n",
        "# Abrir el archivo en modo escritura ('w')\n",
        "with open(nombre_archivo, 'w') as archivo:\n",
        "    # Escribir varias líneas de texto (tareas)\n",
        "    archivo.write(\"Comprar leche\\n\")\n",
        "    archivo.write(\"Hacer ejercicio\\n\")\n",
        "    archivo.write(\"Estudiar Python\\n\")\n",
        "\n",
        "print(f\"El archivo '{nombre_archivo}' ha sido creado y escrito.\")\n",
        "\n",
        "# Paso 2: Leer el archivo y mostrar las tareas\n",
        "print(\"\\n--- Lista de Tareas ---\")\n",
        "\n",
        "# Abrir el archivo en modo lectura ('r')\n",
        "with open(nombre_archivo, 'r') as archivo:\n",
        "    # Leer y mostrar cada línea\n",
        "    for linea in archivo:\n",
        "        print(linea.strip())  # strip() elimina espacios en blanco adicionales\n",
        "\n",
        "# Paso 3: Eliminar una tarea (simulación de marcar como completada)\n",
        "tarea_a_eliminar = \"Hacer ejercicio\"\n",
        "\n",
        "# Leer todas las tareas del archivo\n",
        "with open(nombre_archivo, 'r') as archivo:\n",
        "    tareas = archivo.readlines()\n",
        "\n",
        "# Filtrar las tareas eliminando la que se quiere completar\n",
        "tareas = [t.strip() for t in tareas if t.strip() != tarea_a_eliminar]\n",
        "\n",
        "# Reescribir el archivo con las tareas restantes\n",
        "with open(nombre_archivo, 'w') as archivo:\n",
        "    for tarea in tareas:\n",
        "        archivo.write(tarea + '\\n')\n",
        "\n",
        "print(f\"\\nLa tarea '{tarea_a_eliminar}' ha sido eliminada.\")\n",
        "\n",
        "# Paso 4: Mostrar la lista de tareas actualizada\n",
        "print(\"\\n--- Lista de Tareas Actualizada ---\")\n",
        "\n",
        "with open(nombre_archivo, 'r') as archivo:\n",
        "    for linea in archivo:\n",
        "        print(linea.strip())\n"
      ],
      "metadata": {
        "colab": {
          "base_uri": "https://localhost:8080/"
        },
        "id": "anxAq5a-TTi4",
        "outputId": "ff8002a2-904c-4582-b634-17fa7cb65c5b"
      },
      "execution_count": 3,
      "outputs": [
        {
          "output_type": "stream",
          "name": "stdout",
          "text": [
            "El archivo 'tareas.txt' ha sido creado y escrito.\n",
            "\n",
            "--- Lista de Tareas ---\n",
            "Comprar leche\n",
            "Hacer ejercicio\n",
            "Estudiar Python\n",
            "\n",
            "La tarea 'Hacer ejercicio' ha sido eliminada.\n",
            "\n",
            "--- Lista de Tareas Actualizada ---\n",
            "Comprar leche\n",
            "Estudiar Python\n"
          ]
        }
      ]
    }
  ]
}